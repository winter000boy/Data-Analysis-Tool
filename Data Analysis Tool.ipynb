{
 "cells": [
  {
   "cell_type": "code",
   "execution_count": null,
   "metadata": {},
   "outputs": [],
   "source": []
  },
  {
   "cell_type": "code",
   "execution_count": 1,
   "metadata": {},
   "outputs": [],
   "source": [
    "import pandas as pd"
   ]
  },
  {
   "cell_type": "code",
   "execution_count": 4,
   "metadata": {},
   "outputs": [
    {
     "data": {
      "text/html": [
       "<div>\n",
       "<style scoped>\n",
       "    .dataframe tbody tr th:only-of-type {\n",
       "        vertical-align: middle;\n",
       "    }\n",
       "\n",
       "    .dataframe tbody tr th {\n",
       "        vertical-align: top;\n",
       "    }\n",
       "\n",
       "    .dataframe thead th {\n",
       "        text-align: right;\n",
       "    }\n",
       "</style>\n",
       "<table border=\"1\" class=\"dataframe\">\n",
       "  <thead>\n",
       "    <tr style=\"text-align: right;\">\n",
       "      <th></th>\n",
       "      <th>name</th>\n",
       "      <th>date_of_event</th>\n",
       "      <th>age</th>\n",
       "      <th>citizenship</th>\n",
       "      <th>event_location</th>\n",
       "      <th>event_location_district</th>\n",
       "      <th>event_location_region</th>\n",
       "      <th>date_of_death</th>\n",
       "      <th>gender</th>\n",
       "      <th>took_part_in_the_hostilities</th>\n",
       "      <th>place_of_residence</th>\n",
       "      <th>place_of_residence_district</th>\n",
       "      <th>type_of_injury</th>\n",
       "      <th>ammunition</th>\n",
       "      <th>killed_by</th>\n",
       "      <th>notes</th>\n",
       "    </tr>\n",
       "  </thead>\n",
       "  <tbody>\n",
       "    <tr>\n",
       "      <th>8149</th>\n",
       "      <td>Husam Muhammad 'Ali Abu Zarkah</td>\n",
       "      <td>2004-08-30</td>\n",
       "      <td>16.0</td>\n",
       "      <td>Palestinian</td>\n",
       "      <td>Khan Yunis</td>\n",
       "      <td>Khan Yunis</td>\n",
       "      <td>Gaza Strip</td>\n",
       "      <td>2004-09-04</td>\n",
       "      <td>M</td>\n",
       "      <td>No</td>\n",
       "      <td>Khan Yunis</td>\n",
       "      <td>Khan Yunis</td>\n",
       "      <td>house demolition</td>\n",
       "      <td>NaN</td>\n",
       "      <td>Israeli security forces</td>\n",
       "      <td>Killed by a concrete block that fell on his he...</td>\n",
       "    </tr>\n",
       "    <tr>\n",
       "      <th>4273</th>\n",
       "      <td>Ahmad 'Ali Ahmad Jarghon</td>\n",
       "      <td>2011-10-30</td>\n",
       "      <td>25.0</td>\n",
       "      <td>Palestinian</td>\n",
       "      <td>Rafah</td>\n",
       "      <td>Rafah</td>\n",
       "      <td>Gaza Strip</td>\n",
       "      <td>2011-10-30</td>\n",
       "      <td>M</td>\n",
       "      <td>Yes</td>\n",
       "      <td>Rafah</td>\n",
       "      <td>Rafah</td>\n",
       "      <td>gunfire</td>\n",
       "      <td>missile</td>\n",
       "      <td>Israeli security forces</td>\n",
       "      <td>Killed by an Air Force bomb attack after he an...</td>\n",
       "    </tr>\n",
       "    <tr>\n",
       "      <th>8716</th>\n",
       "      <td>'Ayad Muhammad 'Abed Mahamum</td>\n",
       "      <td>2003-12-11</td>\n",
       "      <td>55.0</td>\n",
       "      <td>Palestinian</td>\n",
       "      <td>Rafah</td>\n",
       "      <td>Rafah</td>\n",
       "      <td>Gaza Strip</td>\n",
       "      <td>2003-12-11</td>\n",
       "      <td>M</td>\n",
       "      <td>No</td>\n",
       "      <td>Rafah</td>\n",
       "      <td>Rafah</td>\n",
       "      <td>gunfire</td>\n",
       "      <td>NaN</td>\n",
       "      <td>Israeli security forces</td>\n",
       "      <td>Killed in his house in Khirbet al-Adas, during...</td>\n",
       "    </tr>\n",
       "    <tr>\n",
       "      <th>4948</th>\n",
       "      <td>Hanan Fathi 'Abd al-Ghani a-Najar</td>\n",
       "      <td>2009-01-10</td>\n",
       "      <td>41.0</td>\n",
       "      <td>Palestinian</td>\n",
       "      <td>Khuza'ah</td>\n",
       "      <td>Khan Yunis</td>\n",
       "      <td>Gaza Strip</td>\n",
       "      <td>2009-01-10</td>\n",
       "      <td>F</td>\n",
       "      <td>No</td>\n",
       "      <td>Khuza'a</td>\n",
       "      <td>Khan Yunis</td>\n",
       "      <td>gunfire</td>\n",
       "      <td>phosphorus shell</td>\n",
       "      <td>Israeli security forces</td>\n",
       "      <td>Killed while she fled with her family to her p...</td>\n",
       "    </tr>\n",
       "    <tr>\n",
       "      <th>34</th>\n",
       "      <td>Muhammad Farid Shawqi Ibrahim Za'arir</td>\n",
       "      <td>2023-08-01</td>\n",
       "      <td>15.0</td>\n",
       "      <td>Palestinian</td>\n",
       "      <td>Mitzpe Eshtamoa</td>\n",
       "      <td>Hebron</td>\n",
       "      <td>West Bank</td>\n",
       "      <td>2023-08-01</td>\n",
       "      <td>M</td>\n",
       "      <td>NaN</td>\n",
       "      <td>a-Samu'</td>\n",
       "      <td>Hebron</td>\n",
       "      <td>gunfire</td>\n",
       "      <td>live ammunition</td>\n",
       "      <td>Israeli security forces</td>\n",
       "      <td>Fatally shot by a soldier, according to the mi...</td>\n",
       "    </tr>\n",
       "  </tbody>\n",
       "</table>\n",
       "</div>"
      ],
      "text/plain": [
       "                                       name date_of_event   age  citizenship  \\\n",
       "8149         Husam Muhammad 'Ali Abu Zarkah    2004-08-30  16.0  Palestinian   \n",
       "4273               Ahmad 'Ali Ahmad Jarghon    2011-10-30  25.0  Palestinian   \n",
       "8716           'Ayad Muhammad 'Abed Mahamum    2003-12-11  55.0  Palestinian   \n",
       "4948      Hanan Fathi 'Abd al-Ghani a-Najar    2009-01-10  41.0  Palestinian   \n",
       "34    Muhammad Farid Shawqi Ibrahim Za'arir    2023-08-01  15.0  Palestinian   \n",
       "\n",
       "       event_location event_location_district event_location_region  \\\n",
       "8149       Khan Yunis              Khan Yunis            Gaza Strip   \n",
       "4273            Rafah                   Rafah            Gaza Strip   \n",
       "8716            Rafah                   Rafah            Gaza Strip   \n",
       "4948         Khuza'ah              Khan Yunis            Gaza Strip   \n",
       "34    Mitzpe Eshtamoa                  Hebron             West Bank   \n",
       "\n",
       "     date_of_death gender took_part_in_the_hostilities place_of_residence  \\\n",
       "8149    2004-09-04      M                           No         Khan Yunis   \n",
       "4273    2011-10-30      M                          Yes              Rafah   \n",
       "8716    2003-12-11      M                           No              Rafah   \n",
       "4948    2009-01-10      F                           No            Khuza'a   \n",
       "34      2023-08-01      M                          NaN            a-Samu'   \n",
       "\n",
       "     place_of_residence_district    type_of_injury        ammunition  \\\n",
       "8149                  Khan Yunis  house demolition               NaN   \n",
       "4273                       Rafah           gunfire           missile   \n",
       "8716                       Rafah           gunfire               NaN   \n",
       "4948                  Khan Yunis           gunfire  phosphorus shell   \n",
       "34                        Hebron           gunfire   live ammunition   \n",
       "\n",
       "                    killed_by  \\\n",
       "8149  Israeli security forces   \n",
       "4273  Israeli security forces   \n",
       "8716  Israeli security forces   \n",
       "4948  Israeli security forces   \n",
       "34    Israeli security forces   \n",
       "\n",
       "                                                  notes  \n",
       "8149  Killed by a concrete block that fell on his he...  \n",
       "4273  Killed by an Air Force bomb attack after he an...  \n",
       "8716  Killed in his house in Khirbet al-Adas, during...  \n",
       "4948  Killed while she fled with her family to her p...  \n",
       "34    Fatally shot by a soldier, according to the mi...  "
      ]
     },
     "execution_count": 4,
     "metadata": {},
     "output_type": "execute_result"
    }
   ],
   "source": [
    "df = pd.read_csv(\"Dataset/fatalities.csv\")\n",
    "df.sample(5)"
   ]
  },
  {
   "cell_type": "code",
   "execution_count": 5,
   "metadata": {},
   "outputs": [
    {
     "data": {
      "text/plain": [
       "(11124, 16)"
      ]
     },
     "execution_count": 5,
     "metadata": {},
     "output_type": "execute_result"
    }
   ],
   "source": [
    "df.shape"
   ]
  },
  {
   "cell_type": "markdown",
   "metadata": {},
   "source": [
    "## 2. Important Information"
   ]
  },
  {
   "cell_type": "code",
   "execution_count": 7,
   "metadata": {},
   "outputs": [],
   "source": [
    "citizenship_count = df.citizenship.value_counts\n",
    "event_location_region = df['event_location_region'].value_counts"
   ]
  },
  {
   "cell_type": "markdown",
   "metadata": {},
   "source": [
    "### Types of Fires"
   ]
  },
  {
   "cell_type": "code",
   "execution_count": null,
   "metadata": {},
   "outputs": [],
   "source": []
  },
  {
   "cell_type": "code",
   "execution_count": null,
   "metadata": {},
   "outputs": [],
   "source": []
  },
  {
   "cell_type": "code",
   "execution_count": null,
   "metadata": {},
   "outputs": [],
   "source": []
  },
  {
   "cell_type": "code",
   "execution_count": null,
   "metadata": {},
   "outputs": [],
   "source": []
  },
  {
   "cell_type": "code",
   "execution_count": null,
   "metadata": {},
   "outputs": [],
   "source": []
  },
  {
   "cell_type": "code",
   "execution_count": null,
   "metadata": {},
   "outputs": [],
   "source": []
  },
  {
   "cell_type": "code",
   "execution_count": null,
   "metadata": {},
   "outputs": [],
   "source": []
  },
  {
   "cell_type": "code",
   "execution_count": null,
   "metadata": {},
   "outputs": [],
   "source": []
  },
  {
   "cell_type": "code",
   "execution_count": null,
   "metadata": {},
   "outputs": [],
   "source": []
  },
  {
   "cell_type": "code",
   "execution_count": null,
   "metadata": {},
   "outputs": [],
   "source": []
  },
  {
   "cell_type": "code",
   "execution_count": null,
   "metadata": {},
   "outputs": [],
   "source": []
  }
 ],
 "metadata": {
  "kernelspec": {
   "display_name": "Python 3",
   "language": "python",
   "name": "python3"
  },
  "language_info": {
   "codemirror_mode": {
    "name": "ipython",
    "version": 3
   },
   "file_extension": ".py",
   "mimetype": "text/x-python",
   "name": "python",
   "nbconvert_exporter": "python",
   "pygments_lexer": "ipython3",
   "version": "3.12.8"
  }
 },
 "nbformat": 4,
 "nbformat_minor": 2
}
