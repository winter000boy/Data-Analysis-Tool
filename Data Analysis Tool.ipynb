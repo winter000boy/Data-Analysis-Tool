{
 "cells": [
  {
   "cell_type": "code",
   "execution_count": 1,
   "metadata": {},
   "outputs": [],
   "source": [
    "import pandas as pd\n",
    "import numpy as np"
   ]
  },
  {
   "cell_type": "code",
   "execution_count": 2,
   "metadata": {},
   "outputs": [
    {
     "data": {
      "text/html": [
       "<div>\n",
       "<style scoped>\n",
       "    .dataframe tbody tr th:only-of-type {\n",
       "        vertical-align: middle;\n",
       "    }\n",
       "\n",
       "    .dataframe tbody tr th {\n",
       "        vertical-align: top;\n",
       "    }\n",
       "\n",
       "    .dataframe thead th {\n",
       "        text-align: right;\n",
       "    }\n",
       "</style>\n",
       "<table border=\"1\" class=\"dataframe\">\n",
       "  <thead>\n",
       "    <tr style=\"text-align: right;\">\n",
       "      <th></th>\n",
       "      <th>name</th>\n",
       "      <th>date_of_event</th>\n",
       "      <th>age</th>\n",
       "      <th>citizenship</th>\n",
       "      <th>event_location</th>\n",
       "      <th>event_location_district</th>\n",
       "      <th>event_location_region</th>\n",
       "      <th>date_of_death</th>\n",
       "      <th>gender</th>\n",
       "      <th>took_part_in_the_hostilities</th>\n",
       "      <th>place_of_residence</th>\n",
       "      <th>place_of_residence_district</th>\n",
       "      <th>type_of_injury</th>\n",
       "      <th>ammunition</th>\n",
       "      <th>killed_by</th>\n",
       "      <th>notes</th>\n",
       "    </tr>\n",
       "  </thead>\n",
       "  <tbody>\n",
       "    <tr>\n",
       "      <th>1595</th>\n",
       "      <td>Ahmad 'Izat 'Issa Khatatbeh</td>\n",
       "      <td>2015-09-18</td>\n",
       "      <td>24.0</td>\n",
       "      <td>Palestinian</td>\n",
       "      <td>Beit Furik</td>\n",
       "      <td>Nablus</td>\n",
       "      <td>West Bank</td>\n",
       "      <td>2015-09-24</td>\n",
       "      <td>M</td>\n",
       "      <td>NaN</td>\n",
       "      <td>Beit Furik</td>\n",
       "      <td>Nablus</td>\n",
       "      <td>gunfire</td>\n",
       "      <td>live ammunition</td>\n",
       "      <td>Israeli security forces</td>\n",
       "      <td>Congenitally deaf. Fatally wounded in the back...</td>\n",
       "    </tr>\n",
       "    <tr>\n",
       "      <th>6321</th>\n",
       "      <td>'Alaa 'Adnan Muhammad Abu Hadaf</td>\n",
       "      <td>2008-02-12</td>\n",
       "      <td>21.0</td>\n",
       "      <td>Palestinian</td>\n",
       "      <td>al-Qararah</td>\n",
       "      <td>Khan Yunis</td>\n",
       "      <td>Gaza Strip</td>\n",
       "      <td>2008-02-17</td>\n",
       "      <td>M</td>\n",
       "      <td>Yes</td>\n",
       "      <td>al-Qararah</td>\n",
       "      <td>Khan Yunis</td>\n",
       "      <td>gunfire</td>\n",
       "      <td>NaN</td>\n",
       "      <td>Israeli security forces</td>\n",
       "      <td>Killed during the army's incursion into the area.</td>\n",
       "    </tr>\n",
       "    <tr>\n",
       "      <th>3823</th>\n",
       "      <td>Muhammad Rabi' Muhammad Abu Hmeidan</td>\n",
       "      <td>2014-07-11</td>\n",
       "      <td>64.0</td>\n",
       "      <td>Palestinian</td>\n",
       "      <td>Jabalya</td>\n",
       "      <td>North Gaza</td>\n",
       "      <td>Gaza Strip</td>\n",
       "      <td>2014-07-11</td>\n",
       "      <td>M</td>\n",
       "      <td>Yes</td>\n",
       "      <td>Jabalya</td>\n",
       "      <td>North Gaza</td>\n",
       "      <td>gunfire</td>\n",
       "      <td>missile</td>\n",
       "      <td>Israeli security forces</td>\n",
       "      <td>Killed while walking with other operatives of ...</td>\n",
       "    </tr>\n",
       "    <tr>\n",
       "      <th>10715</th>\n",
       "      <td>Nassim Abu a-Rus</td>\n",
       "      <td>2002-01-22</td>\n",
       "      <td>28.0</td>\n",
       "      <td>Palestinian</td>\n",
       "      <td>Nablus</td>\n",
       "      <td>Nablus</td>\n",
       "      <td>West Bank</td>\n",
       "      <td>2002-01-22</td>\n",
       "      <td>M</td>\n",
       "      <td>Yes</td>\n",
       "      <td>Nablus</td>\n",
       "      <td>Nablus</td>\n",
       "      <td>gunfire</td>\n",
       "      <td>NaN</td>\n",
       "      <td>Israeli security forces</td>\n",
       "      <td>Killed in an IDF attack on the apartment in wh...</td>\n",
       "    </tr>\n",
       "    <tr>\n",
       "      <th>4721</th>\n",
       "      <td>Tamer Ibrahim 'Atiyyah Abu 'Aser</td>\n",
       "      <td>2009-01-14</td>\n",
       "      <td>24.0</td>\n",
       "      <td>Palestinian</td>\n",
       "      <td>Gaza City</td>\n",
       "      <td>Gaza</td>\n",
       "      <td>Gaza Strip</td>\n",
       "      <td>2009-01-14</td>\n",
       "      <td>M</td>\n",
       "      <td>Yes</td>\n",
       "      <td>Gaza city</td>\n",
       "      <td>Gaza</td>\n",
       "      <td>NaN</td>\n",
       "      <td>NaN</td>\n",
       "      <td>Israeli security forces</td>\n",
       "      <td>Killed in the area of Jabal a-Rayes.</td>\n",
       "    </tr>\n",
       "  </tbody>\n",
       "</table>\n",
       "</div>"
      ],
      "text/plain": [
       "                                      name date_of_event   age  citizenship  \\\n",
       "1595           Ahmad 'Izat 'Issa Khatatbeh    2015-09-18  24.0  Palestinian   \n",
       "6321       'Alaa 'Adnan Muhammad Abu Hadaf    2008-02-12  21.0  Palestinian   \n",
       "3823   Muhammad Rabi' Muhammad Abu Hmeidan    2014-07-11  64.0  Palestinian   \n",
       "10715                     Nassim Abu a-Rus    2002-01-22  28.0  Palestinian   \n",
       "4721      Tamer Ibrahim 'Atiyyah Abu 'Aser    2009-01-14  24.0  Palestinian   \n",
       "\n",
       "      event_location event_location_district event_location_region  \\\n",
       "1595      Beit Furik                  Nablus             West Bank   \n",
       "6321      al-Qararah              Khan Yunis            Gaza Strip   \n",
       "3823         Jabalya              North Gaza            Gaza Strip   \n",
       "10715         Nablus                  Nablus             West Bank   \n",
       "4721       Gaza City                    Gaza            Gaza Strip   \n",
       "\n",
       "      date_of_death gender took_part_in_the_hostilities place_of_residence  \\\n",
       "1595     2015-09-24      M                          NaN         Beit Furik   \n",
       "6321     2008-02-17      M                          Yes         al-Qararah   \n",
       "3823     2014-07-11      M                          Yes            Jabalya   \n",
       "10715    2002-01-22      M                          Yes             Nablus   \n",
       "4721     2009-01-14      M                          Yes          Gaza city   \n",
       "\n",
       "      place_of_residence_district type_of_injury       ammunition  \\\n",
       "1595                       Nablus        gunfire  live ammunition   \n",
       "6321                   Khan Yunis        gunfire              NaN   \n",
       "3823                   North Gaza        gunfire          missile   \n",
       "10715                      Nablus        gunfire              NaN   \n",
       "4721                         Gaza            NaN              NaN   \n",
       "\n",
       "                     killed_by  \\\n",
       "1595   Israeli security forces   \n",
       "6321   Israeli security forces   \n",
       "3823   Israeli security forces   \n",
       "10715  Israeli security forces   \n",
       "4721   Israeli security forces   \n",
       "\n",
       "                                                   notes  \n",
       "1595   Congenitally deaf. Fatally wounded in the back...  \n",
       "6321   Killed during the army's incursion into the area.  \n",
       "3823   Killed while walking with other operatives of ...  \n",
       "10715  Killed in an IDF attack on the apartment in wh...  \n",
       "4721                Killed in the area of Jabal a-Rayes.  "
      ]
     },
     "execution_count": 2,
     "metadata": {},
     "output_type": "execute_result"
    }
   ],
   "source": [
    "df = pd.read_csv(\"Dataset/fatalities.csv\")\n",
    "df.sample(5)"
   ]
  },
  {
   "cell_type": "code",
   "execution_count": 3,
   "metadata": {},
   "outputs": [
    {
     "data": {
      "text/plain": [
       "(11124, 16)"
      ]
     },
     "execution_count": 3,
     "metadata": {},
     "output_type": "execute_result"
    }
   ],
   "source": [
    "df.shape"
   ]
  },
  {
   "cell_type": "markdown",
   "metadata": {},
   "source": [
    "## 2. Important Information"
   ]
  },
  {
   "cell_type": "code",
   "execution_count": 4,
   "metadata": {},
   "outputs": [],
   "source": [
    "citizenship_count = df['citizenship'].value_counts\n",
    "event_location_region = df['event_location_region'].value_counts\n",
    "hostilities_count = df[df['took_part_in_the_hostilities'] == 'yes']['citizenship'].value_counts()\n",
    "noHostilitiesCount = df[df['took_part_in_the_hostilities'] == 'No']['citizenship'].value_counts()"
   ]
  },
  {
   "cell_type": "markdown",
   "metadata": {},
   "source": [
    "### Types of Fires"
   ]
  },
  {
   "cell_type": "code",
   "execution_count": 5,
   "metadata": {},
   "outputs": [
    {
     "data": {
      "text/plain": [
       "<Axes: xlabel='type_of_injury'>"
      ]
     },
     "execution_count": 5,
     "metadata": {},
     "output_type": "execute_result"
    },
    {
     "data": {
      "image/png": "[encoded data removed]",
      "text/plain": [
       "<Figure size 640x480 with 1 Axes>"
      ]
     },
     "metadata": {},
     "output_type": "display_data"
    }
   ],
   "source": [
    "df['type_of_injury'].value_counts().plot(kind='bar')"
   ]
  },
  {
   "cell_type": "markdown",
   "metadata": {},
   "source": [
    "### Group Data by Gender and Visualize"
   ]
  },
  {
   "cell_type": "code",
   "execution_count": 6,
   "metadata": {},
   "outputs": [
    {
     "data": {
      "text/plain": [
       "<Axes: xlabel='gender'>"
      ]
     },
     "execution_count": 6,
     "metadata": {},
     "output_type": "execute_result"
    },
    {
     "data": {
      "image/png": "[encoded data removed]",
      "text/plain": [
       "<Figure size 640x480 with 1 Axes>"
      ]
     },
     "metadata": {},
     "output_type": "display_data"
    }
   ],
   "source": [
    "df['gender'].value_counts().plot(kind='bar')"
   ]
  },
  {
   "cell_type": "markdown",
   "metadata": {},
   "source": [
    "### Age Distribution"
   ]
  },
  {
   "cell_type": "code",
   "execution_count": 7,
   "metadata": {},
   "outputs": [
    {
     "data": {
      "text/plain": [
       "count    10995.000000\n",
       "mean        26.745703\n",
       "std         13.780548\n",
       "min          1.000000\n",
       "25%         19.000000\n",
       "50%         23.000000\n",
       "75%         31.000000\n",
       "max        112.000000\n",
       "Name: age, dtype: float64"
      ]
     },
     "execution_count": 7,
     "metadata": {},
     "output_type": "execute_result"
    }
   ],
   "source": [
    "df['age'].describe()"
   ]
  },
  {
   "cell_type": "markdown",
   "metadata": {},
   "source": [
    "### Group Distribution by Event Location"
   ]
  },
  {
   "cell_type": "code",
   "execution_count": 9,
   "metadata": {},
   "outputs": [
    {
     "data": {
      "text/plain": [
       "<Axes: ylabel='count'>"
      ]
     },
     "execution_count": 9,
     "metadata": {},
     "output_type": "execute_result"
    },
    {
     "data": {
      "image/png": "[encoded data removed]",
      "text/plain": [
       "<Figure size 640x480 with 1 Axes>"
      ]
     },
     "metadata": {},
     "output_type": "display_data"
    }
   ],
   "source": [
    "df['event_location_region'].value_counts().plot(kind='pie')"
   ]
  },
  {
   "cell_type": "code",
   "execution_count": null,
   "metadata": {},
   "outputs": [],
   "source": []
  },
  {
   "cell_type": "code",
   "execution_count": null,
   "metadata": {},
   "outputs": [],
   "source": []
  },
  {
   "cell_type": "code",
   "execution_count": null,
   "metadata": {},
   "outputs": [],
   "source": []
  },
  {
   "cell_type": "code",
   "execution_count": null,
   "metadata": {},
   "outputs": [],
   "source": []
  },
  {
   "cell_type": "code",
   "execution_count": null,
   "metadata": {},
   "outputs": [],
   "source": []
  },
  {
   "cell_type": "code",
   "execution_count": null,
   "metadata": {},
   "outputs": [],
   "source": []
  },
  {
   "cell_type": "code",
   "execution_count": null,
   "metadata": {},
   "outputs": [],
   "source": []
  }
 ],
 "metadata": {
  "kernelspec": {
   "display_name": ".venv",
   "language": "python",
   "name": "python3"
  },
  "language_info": {
   "codemirror_mode": {
    "name": "ipython",
    "version": 3
   },
   "file_extension": ".py",
   "mimetype": "text/x-python",
   "name": "python",
   "nbconvert_exporter": "python",
   "pygments_lexer": "ipython3",
   "version": "3.12.8"
  }
 },
 "nbformat": 4,
 "nbformat_minor": 2
}
