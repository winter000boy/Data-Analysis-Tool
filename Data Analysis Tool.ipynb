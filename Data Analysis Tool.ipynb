{
 "cells": [
  {
   "cell_type": "code",
   "execution_count": 1,
   "metadata": {},
   "outputs": [],
   "source": [
    "import pandas as pd\n",
    "import numpy as np"
   ]
  },
  {
   "cell_type": "code",
   "execution_count": 2,
   "metadata": {},
   "outputs": [
    {
     "data": {
      "text/html": [
       "<div>\n",
       "<style scoped>\n",
       "    .dataframe tbody tr th:only-of-type {\n",
       "        vertical-align: middle;\n",
       "    }\n",
       "\n",
       "    .dataframe tbody tr th {\n",
       "        vertical-align: top;\n",
       "    }\n",
       "\n",
       "    .dataframe thead th {\n",
       "        text-align: right;\n",
       "    }\n",
       "</style>\n",
       "<table border=\"1\" class=\"dataframe\">\n",
       "  <thead>\n",
       "    <tr style=\"text-align: right;\">\n",
       "      <th></th>\n",
       "      <th>name</th>\n",
       "      <th>date_of_event</th>\n",
       "      <th>age</th>\n",
       "      <th>citizenship</th>\n",
       "      <th>event_location</th>\n",
       "      <th>event_location_district</th>\n",
       "      <th>event_location_region</th>\n",
       "      <th>date_of_death</th>\n",
       "      <th>gender</th>\n",
       "      <th>took_part_in_the_hostilities</th>\n",
       "      <th>place_of_residence</th>\n",
       "      <th>place_of_residence_district</th>\n",
       "      <th>type_of_injury</th>\n",
       "      <th>ammunition</th>\n",
       "      <th>killed_by</th>\n",
       "      <th>notes</th>\n",
       "    </tr>\n",
       "  </thead>\n",
       "  <tbody>\n",
       "    <tr>\n",
       "      <th>609</th>\n",
       "      <td>Maryam 'Alaa Muhammad Abu Hatab</td>\n",
       "      <td>2021-05-15</td>\n",
       "      <td>7.0</td>\n",
       "      <td>Palestinian</td>\n",
       "      <td>a-Shati' R.C.</td>\n",
       "      <td>Gaza</td>\n",
       "      <td>Gaza Strip</td>\n",
       "      <td>2021-05-15</td>\n",
       "      <td>F</td>\n",
       "      <td>No</td>\n",
       "      <td>a-Shati' Camp</td>\n",
       "      <td>Gaza</td>\n",
       "      <td>gunfire</td>\n",
       "      <td>missile</td>\n",
       "      <td>Israeli security forces</td>\n",
       "      <td>Killed at home with her mother, her three brot...</td>\n",
       "    </tr>\n",
       "    <tr>\n",
       "      <th>2840</th>\n",
       "      <td>Ousamah 'Abd al-Malek Salman Abu M'alla</td>\n",
       "      <td>2014-07-25</td>\n",
       "      <td>36.0</td>\n",
       "      <td>Palestinian</td>\n",
       "      <td>a-Nuseirat R.C.</td>\n",
       "      <td>Deir al-Balah</td>\n",
       "      <td>Gaza Strip</td>\n",
       "      <td>2014-07-25</td>\n",
       "      <td>M</td>\n",
       "      <td>Yes</td>\n",
       "      <td>a-Nuseirat Camp</td>\n",
       "      <td>Deir al-Balah</td>\n",
       "      <td>gunfire</td>\n",
       "      <td>NaN</td>\n",
       "      <td>Israeli security forces</td>\n",
       "      <td>Killed at home in Block 10 of the refugee camp.</td>\n",
       "    </tr>\n",
       "    <tr>\n",
       "      <th>3452</th>\n",
       "      <td>Samia Hamed Muhammad a-Sheikh Khalil</td>\n",
       "      <td>2014-07-20</td>\n",
       "      <td>2.0</td>\n",
       "      <td>Palestinian</td>\n",
       "      <td>Gaza City</td>\n",
       "      <td>Gaza</td>\n",
       "      <td>Gaza Strip</td>\n",
       "      <td>2014-07-20</td>\n",
       "      <td>F</td>\n",
       "      <td>No</td>\n",
       "      <td>Gaza city</td>\n",
       "      <td>Gaza</td>\n",
       "      <td>gunfire</td>\n",
       "      <td>NaN</td>\n",
       "      <td>Israeli security forces</td>\n",
       "      <td>Killed in the stairwell of her home together w...</td>\n",
       "    </tr>\n",
       "    <tr>\n",
       "      <th>10757</th>\n",
       "      <td>Diaa' Nadi Ibda</td>\n",
       "      <td>2001-12-14</td>\n",
       "      <td>19.0</td>\n",
       "      <td>Palestinian</td>\n",
       "      <td>Salfit</td>\n",
       "      <td>Salfit</td>\n",
       "      <td>West Bank</td>\n",
       "      <td>2001-12-14</td>\n",
       "      <td>M</td>\n",
       "      <td>Yes</td>\n",
       "      <td>Salfit</td>\n",
       "      <td>Salfit</td>\n",
       "      <td>gunfire</td>\n",
       "      <td>NaN</td>\n",
       "      <td>Israeli security forces</td>\n",
       "      <td>Killed during an IDF operation in the village.</td>\n",
       "    </tr>\n",
       "    <tr>\n",
       "      <th>5363</th>\n",
       "      <td>Walid Rashad Helmi a-Samuni</td>\n",
       "      <td>2009-01-04</td>\n",
       "      <td>16.0</td>\n",
       "      <td>Palestinian</td>\n",
       "      <td>Gaza City</td>\n",
       "      <td>Gaza</td>\n",
       "      <td>Gaza Strip</td>\n",
       "      <td>2009-01-05</td>\n",
       "      <td>M</td>\n",
       "      <td>No</td>\n",
       "      <td>Gaza city</td>\n",
       "      <td>Gaza</td>\n",
       "      <td>NaN</td>\n",
       "      <td>NaN</td>\n",
       "      <td>Israeli security forces</td>\n",
       "      <td>His name appears on the Islamic Jihad list, bu...</td>\n",
       "    </tr>\n",
       "  </tbody>\n",
       "</table>\n",
       "</div>"
      ],
      "text/plain": [
       "                                          name date_of_event   age  \\\n",
       "609            Maryam 'Alaa Muhammad Abu Hatab    2021-05-15   7.0   \n",
       "2840   Ousamah 'Abd al-Malek Salman Abu M'alla    2014-07-25  36.0   \n",
       "3452      Samia Hamed Muhammad a-Sheikh Khalil    2014-07-20   2.0   \n",
       "10757                          Diaa' Nadi Ibda    2001-12-14  19.0   \n",
       "5363               Walid Rashad Helmi a-Samuni    2009-01-04  16.0   \n",
       "\n",
       "       citizenship   event_location event_location_district  \\\n",
       "609    Palestinian    a-Shati' R.C.                    Gaza   \n",
       "2840   Palestinian  a-Nuseirat R.C.           Deir al-Balah   \n",
       "3452   Palestinian        Gaza City                    Gaza   \n",
       "10757  Palestinian           Salfit                  Salfit   \n",
       "5363   Palestinian        Gaza City                    Gaza   \n",
       "\n",
       "      event_location_region date_of_death gender took_part_in_the_hostilities  \\\n",
       "609              Gaza Strip    2021-05-15      F                           No   \n",
       "2840             Gaza Strip    2014-07-25      M                          Yes   \n",
       "3452             Gaza Strip    2014-07-20      F                           No   \n",
       "10757             West Bank    2001-12-14      M                          Yes   \n",
       "5363             Gaza Strip    2009-01-05      M                           No   \n",
       "\n",
       "      place_of_residence place_of_residence_district type_of_injury  \\\n",
       "609        a-Shati' Camp                        Gaza        gunfire   \n",
       "2840     a-Nuseirat Camp               Deir al-Balah        gunfire   \n",
       "3452           Gaza city                        Gaza        gunfire   \n",
       "10757             Salfit                      Salfit        gunfire   \n",
       "5363           Gaza city                        Gaza            NaN   \n",
       "\n",
       "      ammunition                killed_by  \\\n",
       "609      missile  Israeli security forces   \n",
       "2840         NaN  Israeli security forces   \n",
       "3452         NaN  Israeli security forces   \n",
       "10757        NaN  Israeli security forces   \n",
       "5363         NaN  Israeli security forces   \n",
       "\n",
       "                                                   notes  \n",
       "609    Killed at home with her mother, her three brot...  \n",
       "2840     Killed at home in Block 10 of the refugee camp.  \n",
       "3452   Killed in the stairwell of her home together w...  \n",
       "10757     Killed during an IDF operation in the village.  \n",
       "5363   His name appears on the Islamic Jihad list, bu...  "
      ]
     },
     "execution_count": 2,
     "metadata": {},
     "output_type": "execute_result"
    }
   ],
   "source": [
    "df = pd.read_csv(\"Dataset/fatalities.csv\")\n",
    "df.sample(5)"
   ]
  },
  {
   "cell_type": "code",
   "execution_count": 3,
   "metadata": {},
   "outputs": [
    {
     "data": {
      "text/plain": [
       "(11124, 16)"
      ]
     },
     "execution_count": 3,
     "metadata": {},
     "output_type": "execute_result"
    }
   ],
   "source": [
    "df.shape"
   ]
  },
  {
   "cell_type": "markdown",
   "metadata": {},
   "source": [
    "## 2. Important Information"
   ]
  },
  {
   "cell_type": "code",
   "execution_count": 5,
   "metadata": {},
   "outputs": [
    {
     "data": {
      "text/plain": [
       "Series([], Name: count, dtype: int64)"
      ]
     },
     "execution_count": 5,
     "metadata": {},
     "output_type": "execute_result"
    }
   ],
   "source": [
    "citizenship_count = df['citizenship'].value_counts\n",
    "event_location_region = df['event_location_region'].value_counts\n",
    "hostilities_count = df[df['took_part_in_the_hostilities'] == 'yes']['citizenship'].value_counts()\n",
    "noHostilitiesCount = df[df['took_part_in_the_hostilities'] == 'No']['citizenship'].value_counts()"
   ]
  },
  {
   "cell_type": "markdown",
   "metadata": {},
   "source": [
    "### Types of Fires"
   ]
  },
  {
   "cell_type": "code",
   "execution_count": null,
   "metadata": {},
   "outputs": [],
   "source": []
  },
  {
   "cell_type": "code",
   "execution_count": null,
   "metadata": {},
   "outputs": [],
   "source": []
  },
  {
   "cell_type": "code",
   "execution_count": null,
   "metadata": {},
   "outputs": [],
   "source": []
  },
  {
   "cell_type": "code",
   "execution_count": null,
   "metadata": {},
   "outputs": [],
   "source": []
  },
  {
   "cell_type": "code",
   "execution_count": null,
   "metadata": {},
   "outputs": [],
   "source": []
  },
  {
   "cell_type": "code",
   "execution_count": null,
   "metadata": {},
   "outputs": [],
   "source": []
  },
  {
   "cell_type": "code",
   "execution_count": null,
   "metadata": {},
   "outputs": [],
   "source": []
  },
  {
   "cell_type": "code",
   "execution_count": null,
   "metadata": {},
   "outputs": [],
   "source": []
  },
  {
   "cell_type": "code",
   "execution_count": null,
   "metadata": {},
   "outputs": [],
   "source": []
  },
  {
   "cell_type": "code",
   "execution_count": null,
   "metadata": {},
   "outputs": [],
   "source": []
  },
  {
   "cell_type": "code",
   "execution_count": null,
   "metadata": {},
   "outputs": [],
   "source": []
  }
 ],
 "metadata": {
  "kernelspec": {
   "display_name": "Python 3",
   "language": "python",
   "name": "python3"
  },
  "language_info": {
   "codemirror_mode": {
    "name": "ipython",
    "version": 3
   },
   "file_extension": ".py",
   "mimetype": "text/x-python",
   "name": "python",
   "nbconvert_exporter": "python",
   "pygments_lexer": "ipython3",
   "version": "3.12.8"
  }
 },
 "nbformat": 4,
 "nbformat_minor": 2
}
